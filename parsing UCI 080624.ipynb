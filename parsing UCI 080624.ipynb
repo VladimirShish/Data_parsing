{
 "cells": [
  {
   "cell_type": "markdown",
   "id": "463cd17e",
   "metadata": {},
   "source": [
    "<div style=\"border:solid gray 2px; padding: 30px\">\n",
    "    \n",
    "Визуализация количества выигранных медалей по велосоревнованиям \"UCI World Championships\" за 2023 год. Данные взяты с сайта https://www.cyclingnews.com/ с помощью технологии парсинга."
   ]
  },
  {
   "cell_type": "markdown",
   "id": "2f216fb6",
   "metadata": {},
   "source": [
    "#### **1. Загрузка библиотек**"
   ]
  },
  {
   "cell_type": "code",
   "execution_count": 1,
   "id": "f00bcebd",
   "metadata": {
    "scrolled": true
   },
   "outputs": [],
   "source": [
    "import pandas as pd\n",
    "import requests\n",
    "import numpy as np\n",
    "import matplotlib.pyplot as plt"
   ]
  },
  {
   "cell_type": "markdown",
   "id": "34f198e5",
   "metadata": {},
   "source": [
    "#### 2. Общий запрос с поиском всех страниц на странице сайте"
   ]
  },
  {
   "cell_type": "markdown",
   "id": "52cb9abb",
   "metadata": {},
   "source": [
    "* спарсить таблицы с сайта через запрос 'requests'"
   ]
  },
  {
   "cell_type": "code",
   "execution_count": 2,
   "id": "01f9b2cc",
   "metadata": {},
   "outputs": [],
   "source": [
    "page = requests.get(\"https://www.cyclingnews.com/features/uci-world-championships-medal-table/\").text\n",
    "df_page = pd.read_html(page)"
   ]
  },
  {
   "cell_type": "markdown",
   "id": "c40a8d7b",
   "metadata": {},
   "source": [
    "* всего найдено таблиц на странице"
   ]
  },
  {
   "cell_type": "code",
   "execution_count": 3,
   "id": "74fa3842",
   "metadata": {},
   "outputs": [
    {
     "data": {
      "text/plain": [
       "12"
      ]
     },
     "execution_count": 3,
     "metadata": {},
     "output_type": "execute_result"
    }
   ],
   "source": [
    "len(df_page)"
   ]
  },
  {
   "cell_type": "markdown",
   "id": "a64e78e2",
   "metadata": {},
   "source": [
    "* вывод первой таблицы со страницы сайта"
   ]
  },
  {
   "cell_type": "code",
   "execution_count": 4,
   "id": "63bd136e",
   "metadata": {},
   "outputs": [
    {
     "data": {
      "text/html": [
       "<div>\n",
       "<style scoped>\n",
       "    .dataframe tbody tr th:only-of-type {\n",
       "        vertical-align: middle;\n",
       "    }\n",
       "\n",
       "    .dataframe tbody tr th {\n",
       "        vertical-align: top;\n",
       "    }\n",
       "\n",
       "    .dataframe thead th {\n",
       "        text-align: right;\n",
       "    }\n",
       "</style>\n",
       "<table border=\"1\" class=\"dataframe\">\n",
       "  <thead>\n",
       "    <tr style=\"text-align: right;\">\n",
       "      <th></th>\n",
       "      <th>Pos.</th>\n",
       "      <th>Country</th>\n",
       "      <th>Gold</th>\n",
       "      <th>Silver</th>\n",
       "      <th>Bronze</th>\n",
       "      <th>Total</th>\n",
       "    </tr>\n",
       "  </thead>\n",
       "  <tbody>\n",
       "    <tr>\n",
       "      <th>0</th>\n",
       "      <td>1</td>\n",
       "      <td>Great Britain</td>\n",
       "      <td>23</td>\n",
       "      <td>12</td>\n",
       "      <td>21</td>\n",
       "      <td>56</td>\n",
       "    </tr>\n",
       "    <tr>\n",
       "      <th>1</th>\n",
       "      <td>2</td>\n",
       "      <td>Germany</td>\n",
       "      <td>14</td>\n",
       "      <td>12</td>\n",
       "      <td>6</td>\n",
       "      <td>32</td>\n",
       "    </tr>\n",
       "    <tr>\n",
       "      <th>2</th>\n",
       "      <td>3</td>\n",
       "      <td>France</td>\n",
       "      <td>13</td>\n",
       "      <td>19</td>\n",
       "      <td>10</td>\n",
       "      <td>42</td>\n",
       "    </tr>\n",
       "    <tr>\n",
       "      <th>3</th>\n",
       "      <td>4</td>\n",
       "      <td>United States of America</td>\n",
       "      <td>11</td>\n",
       "      <td>6</td>\n",
       "      <td>6</td>\n",
       "      <td>23</td>\n",
       "    </tr>\n",
       "    <tr>\n",
       "      <th>4</th>\n",
       "      <td>5</td>\n",
       "      <td>Belgium</td>\n",
       "      <td>8</td>\n",
       "      <td>5</td>\n",
       "      <td>8</td>\n",
       "      <td>21</td>\n",
       "    </tr>\n",
       "    <tr>\n",
       "      <th>5</th>\n",
       "      <td>6</td>\n",
       "      <td>Netherlands</td>\n",
       "      <td>7</td>\n",
       "      <td>6</td>\n",
       "      <td>3</td>\n",
       "      <td>16</td>\n",
       "    </tr>\n",
       "    <tr>\n",
       "      <th>6</th>\n",
       "      <td>7</td>\n",
       "      <td>Switzerland</td>\n",
       "      <td>6</td>\n",
       "      <td>5</td>\n",
       "      <td>5</td>\n",
       "      <td>16</td>\n",
       "    </tr>\n",
       "    <tr>\n",
       "      <th>7</th>\n",
       "      <td>8</td>\n",
       "      <td>New Zealand</td>\n",
       "      <td>6</td>\n",
       "      <td>4</td>\n",
       "      <td>9</td>\n",
       "      <td>19</td>\n",
       "    </tr>\n",
       "    <tr>\n",
       "      <th>8</th>\n",
       "      <td>9</td>\n",
       "      <td>Spain</td>\n",
       "      <td>3</td>\n",
       "      <td>6</td>\n",
       "      <td>4</td>\n",
       "      <td>13</td>\n",
       "    </tr>\n",
       "    <tr>\n",
       "      <th>9</th>\n",
       "      <td>10</td>\n",
       "      <td>Norway</td>\n",
       "      <td>3</td>\n",
       "      <td>3</td>\n",
       "      <td>1</td>\n",
       "      <td>7</td>\n",
       "    </tr>\n",
       "  </tbody>\n",
       "</table>\n",
       "</div>"
      ],
      "text/plain": [
       "   Pos.                   Country  Gold  Silver  Bronze  Total\n",
       "0     1             Great Britain    23      12      21     56\n",
       "1     2                   Germany    14      12       6     32\n",
       "2     3                    France    13      19      10     42\n",
       "3     4  United States of America    11       6       6     23\n",
       "4     5                   Belgium     8       5       8     21\n",
       "5     6               Netherlands     7       6       3     16\n",
       "6     7               Switzerland     6       5       5     16\n",
       "7     8               New Zealand     6       4       9     19\n",
       "8     9                     Spain     3       6       4     13\n",
       "9    10                    Norway     3       3       1      7"
      ]
     },
     "execution_count": 4,
     "metadata": {},
     "output_type": "execute_result"
    }
   ],
   "source": [
    "df_medal = df_page[0]\n",
    "df_medal.head(10)"
   ]
  },
  {
   "cell_type": "code",
   "execution_count": 5,
   "id": "48a85684",
   "metadata": {},
   "outputs": [],
   "source": [
    "df_medal = df_medal.replace('United States of America', 'USA')"
   ]
  },
  {
   "cell_type": "markdown",
   "id": "9f405813",
   "metadata": {},
   "source": [
    "* гистограмма для первых 7 стран с количеством выигранных медалей"
   ]
  },
  {
   "cell_type": "code",
   "execution_count": 6,
   "id": "c41abcc4",
   "metadata": {},
   "outputs": [
    {
     "data": {
      "image/png": "[encoded data removed]",
      "text/plain": [
       "<Figure size 1500x500 with 1 Axes>"
      ]
     },
     "metadata": {},
     "output_type": "display_data"
    }
   ],
   "source": [
    "country = df_medal['Country'][:8]\n",
    "\n",
    "ax = df_medal[['Gold', 'Silver', 'Bronze']][:8].plot(kind='bar',figsize=(15,5), grid=False, \n",
    "                                                     color=['gold', 'silver', 'brown'], edgecolor='white',\n",
    "                                                     linewidth=1.2)\n",
    "\n",
    "for container in ax.containers:\n",
    "    ax.bar_label(container)\n",
    "    \n",
    "ax.set_xlabel('country')  \n",
    "plt.xticks(np.arange(len(country)), country)\n",
    "plt.title('Cycling Medal Table')\n",
    "ax.get_yaxis().set_visible(False) \n",
    "plt.show()"
   ]
  },
  {
   "cell_type": "markdown",
   "id": "f40da81a",
   "metadata": {},
   "source": [
    "#### 3. Запрос с выводом страницы по названию"
   ]
  },
  {
   "cell_type": "markdown",
   "id": "b285c5b7",
   "metadata": {},
   "source": [
    "* спарсить таблицу с сайта по наименованию"
   ]
  },
  {
   "cell_type": "code",
   "execution_count": 7,
   "id": "787411c4",
   "metadata": {},
   "outputs": [
    {
     "data": {
      "text/html": [
       "<div>\n",
       "<style scoped>\n",
       "    .dataframe tbody tr th:only-of-type {\n",
       "        vertical-align: middle;\n",
       "    }\n",
       "\n",
       "    .dataframe tbody tr th {\n",
       "        vertical-align: top;\n",
       "    }\n",
       "\n",
       "    .dataframe thead th {\n",
       "        text-align: right;\n",
       "    }\n",
       "</style>\n",
       "<table border=\"1\" class=\"dataframe\">\n",
       "  <thead>\n",
       "    <tr style=\"text-align: right;\">\n",
       "      <th></th>\n",
       "      <th>Nation</th>\n",
       "      <th>Gold</th>\n",
       "      <th>Silver</th>\n",
       "      <th>Bronze</th>\n",
       "      <th>Total</th>\n",
       "    </tr>\n",
       "  </thead>\n",
       "  <tbody>\n",
       "    <tr>\n",
       "      <th>0</th>\n",
       "      <td>Great Britain</td>\n",
       "      <td>5</td>\n",
       "      <td>3</td>\n",
       "      <td>1</td>\n",
       "      <td>9</td>\n",
       "    </tr>\n",
       "    <tr>\n",
       "      <th>1</th>\n",
       "      <td>Netherlands</td>\n",
       "      <td>4</td>\n",
       "      <td>1</td>\n",
       "      <td>0</td>\n",
       "      <td>5</td>\n",
       "    </tr>\n",
       "    <tr>\n",
       "      <th>2</th>\n",
       "      <td>United States</td>\n",
       "      <td>3</td>\n",
       "      <td>0</td>\n",
       "      <td>1</td>\n",
       "      <td>4</td>\n",
       "    </tr>\n",
       "    <tr>\n",
       "      <th>3</th>\n",
       "      <td>Germany</td>\n",
       "      <td>2</td>\n",
       "      <td>2</td>\n",
       "      <td>2</td>\n",
       "      <td>6</td>\n",
       "    </tr>\n",
       "    <tr>\n",
       "      <th>4</th>\n",
       "      <td>New Zealand</td>\n",
       "      <td>2</td>\n",
       "      <td>1</td>\n",
       "      <td>5</td>\n",
       "      <td>8</td>\n",
       "    </tr>\n",
       "    <tr>\n",
       "      <th>5</th>\n",
       "      <td>Belgium</td>\n",
       "      <td>2</td>\n",
       "      <td>0</td>\n",
       "      <td>3</td>\n",
       "      <td>5</td>\n",
       "    </tr>\n",
       "    <tr>\n",
       "      <th>6</th>\n",
       "      <td>Italy</td>\n",
       "      <td>1</td>\n",
       "      <td>1</td>\n",
       "      <td>2</td>\n",
       "      <td>4</td>\n",
       "    </tr>\n",
       "    <tr>\n",
       "      <th>7</th>\n",
       "      <td>Denmark</td>\n",
       "      <td>1</td>\n",
       "      <td>1</td>\n",
       "      <td>0</td>\n",
       "      <td>2</td>\n",
       "    </tr>\n",
       "    <tr>\n",
       "      <th>8</th>\n",
       "      <td>Colombia</td>\n",
       "      <td>1</td>\n",
       "      <td>1</td>\n",
       "      <td>0</td>\n",
       "      <td>2</td>\n",
       "    </tr>\n",
       "    <tr>\n",
       "      <th>9</th>\n",
       "      <td>Portugal</td>\n",
       "      <td>1</td>\n",
       "      <td>0</td>\n",
       "      <td>0</td>\n",
       "      <td>1</td>\n",
       "    </tr>\n",
       "  </tbody>\n",
       "</table>\n",
       "</div>"
      ],
      "text/plain": [
       "          Nation  Gold  Silver  Bronze  Total\n",
       "0  Great Britain     5       3       1      9\n",
       "1    Netherlands     4       1       0      5\n",
       "2  United States     3       0       1      4\n",
       "3        Germany     2       2       2      6\n",
       "4    New Zealand     2       1       5      8\n",
       "5        Belgium     2       0       3      5\n",
       "6          Italy     1       1       2      4\n",
       "7        Denmark     1       1       0      2\n",
       "8       Colombia     1       1       0      2\n",
       "9       Portugal     1       0       0      1"
      ]
     },
     "execution_count": 7,
     "metadata": {},
     "output_type": "execute_result"
    }
   ],
   "source": [
    "df_track = pd.read_html(page, match = 'Track World Championships Medals')\n",
    "df_track = df_track[0]\n",
    "df_track.head(10)"
   ]
  },
  {
   "cell_type": "code",
   "execution_count": 8,
   "id": "f4b4c015",
   "metadata": {},
   "outputs": [
    {
     "data": {
      "image/png": "[encoded data removed]",
      "text/plain": [
       "<Figure size 1200x400 with 1 Axes>"
      ]
     },
     "metadata": {},
     "output_type": "display_data"
    }
   ],
   "source": [
    "nation = df_track['Nation'][:7]\n",
    "\n",
    "ax = df_track[['Gold', 'Silver', 'Bronze']][:7].plot(kind='bar',figsize=(12,4), grid=False, \n",
    "                                                     color=['gold', 'silver', 'brown'], edgecolor='white',\n",
    "                                                     linewidth=1.2)\n",
    "\n",
    "for container in ax.containers:\n",
    "    ax.bar_label(container)\n",
    "    \n",
    "ax.set_xlabel('country')  \n",
    "plt.xticks(np.arange(len(nation)), nation)\n",
    "plt.title('Track World Championships Medals')\n",
    "ax.get_yaxis().set_visible(False) \n",
    "plt.show()"
   ]
  },
  {
   "cell_type": "code",
   "execution_count": null,
   "id": "7f48b569",
   "metadata": {},
   "outputs": [],
   "source": []
  }
 ],
 "metadata": {
  "kernelspec": {
   "display_name": "Python 3 (ipykernel)",
   "language": "python",
   "name": "python3"
  },
  "language_info": {
   "codemirror_mode": {
    "name": "ipython",
    "version": 3
   },
   "file_extension": ".py",
   "mimetype": "text/x-python",
   "name": "python",
   "nbconvert_exporter": "python",
   "pygments_lexer": "ipython3",
   "version": "3.11.5"
  }
 },
 "nbformat": 4,
 "nbformat_minor": 5
}
