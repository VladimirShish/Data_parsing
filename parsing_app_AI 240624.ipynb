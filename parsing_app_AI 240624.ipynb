{
 "cells": [
  {
   "cell_type": "markdown",
   "id": "38095081",
   "metadata": {},
   "source": [
    "<div style=\"border:solid gray 2px; padding: 30px\">\n",
    "    \n",
    "Составление сводной таблицы рейтинга и количества пользователей различных \"приложений-помощников на основе ИИ\". Данные взяты с сайта https://chromewebstore.google.com/ с помощью технологии парсинга."
   ]
  },
  {
   "cell_type": "markdown",
   "id": "2f216fb6",
   "metadata": {},
   "source": [
    "#### **1. Загрузка библиотек**"
   ]
  },
  {
   "cell_type": "code",
   "execution_count": 1,
   "id": "f00bcebd",
   "metadata": {
    "scrolled": true
   },
   "outputs": [],
   "source": [
    "import pandas as pd\n",
    "import requests\n",
    "import lxml\n",
    "from bs4 import BeautifulSoup as bs\n",
    "import re\n",
    "from datetime import datetime\n",
    "import matplotlib.pyplot as plt\n",
    "import numpy as np"
   ]
  },
  {
   "cell_type": "markdown",
   "id": "4253a4fd",
   "metadata": {},
   "source": [
    "#### 2. Парсинг кода со страницы сайта"
   ]
  },
  {
   "cell_type": "code",
   "execution_count": 2,
   "id": "324709b9",
   "metadata": {},
   "outputs": [],
   "source": [
    "url = ('https://chromewebstore.google.com/detail/liner-chatgpt-ai-copilot/bmhcbmnbenmcecpmpepghooflbehcack')"
   ]
  },
  {
   "cell_type": "code",
   "execution_count": 3,
   "id": "d7f4e64c",
   "metadata": {
    "scrolled": false
   },
   "outputs": [],
   "source": [
    "page = requests.get(url)\n",
    "soup = bs(page.text)"
   ]
  },
  {
   "cell_type": "markdown",
   "id": "64885fb8",
   "metadata": {},
   "source": [
    "#### 3. Парсинг отдельных элементов со страницы сайта"
   ]
  },
  {
   "cell_type": "markdown",
   "id": "ed85b493",
   "metadata": {},
   "source": [
    "#### 3.1 Наименование сайта"
   ]
  },
  {
   "cell_type": "markdown",
   "id": "d128d23b",
   "metadata": {},
   "source": [
    "* вывод наименования приложения через select по первому элементу"
   ]
  },
  {
   "cell_type": "code",
   "execution_count": 4,
   "id": "c359cdd7",
   "metadata": {},
   "outputs": [
    {
     "data": {
      "text/plain": [
       "'Liner: ChatGPT AI Copilot for Web&YouTube&PDF'"
      ]
     },
     "execution_count": 4,
     "metadata": {},
     "output_type": "execute_result"
    }
   ],
   "source": [
    "soup.select('h1[class=\"Pa2dE\"]')[0].text"
   ]
  },
  {
   "cell_type": "markdown",
   "id": "1d09a359",
   "metadata": {},
   "source": [
    "* вывод наименования приложения через find по первому элементу который встретит по ключу"
   ]
  },
  {
   "cell_type": "code",
   "execution_count": 5,
   "id": "282c937f",
   "metadata": {},
   "outputs": [],
   "source": [
    "def get_title(soup_page):\n",
    "    return soup_page.find('h1', {'class':\"Pa2dE\"}).text"
   ]
  },
  {
   "cell_type": "code",
   "execution_count": 6,
   "id": "86ce1d11",
   "metadata": {},
   "outputs": [
    {
     "data": {
      "text/plain": [
       "'Liner: ChatGPT AI Copilot for Web&YouTube&PDF'"
      ]
     },
     "execution_count": 6,
     "metadata": {},
     "output_type": "execute_result"
    }
   ],
   "source": [
    "get_title(soup)"
   ]
  },
  {
   "cell_type": "markdown",
   "id": "1b6965a1",
   "metadata": {},
   "source": [
    "#### 3.2 Средняя оценка приложения от пользователей"
   ]
  },
  {
   "cell_type": "markdown",
   "id": "09ee1ec9",
   "metadata": {},
   "source": [
    "* поиск значения по ключу и перевод в тип float"
   ]
  },
  {
   "cell_type": "code",
   "execution_count": 7,
   "id": "56604a1b",
   "metadata": {},
   "outputs": [],
   "source": [
    "def get_rating(soup_page):\n",
    "    rating = soup_page.find('span', {'class':\"Vq0ZA\"}).text\n",
    "    return float(rating)"
   ]
  },
  {
   "cell_type": "code",
   "execution_count": 8,
   "id": "f522ffd8",
   "metadata": {},
   "outputs": [
    {
     "data": {
      "text/plain": [
       "4.4"
      ]
     },
     "execution_count": 8,
     "metadata": {},
     "output_type": "execute_result"
    }
   ],
   "source": [
    "get_rating(soup)"
   ]
  },
  {
   "cell_type": "markdown",
   "id": "d2cac5f7",
   "metadata": {},
   "source": [
    "#### 3.3 Количество поставленных оценок"
   ]
  },
  {
   "cell_type": "markdown",
   "id": "cdf6b029",
   "metadata": {},
   "source": [
    "* поиск количества проставленных оценок и перевод в формат числа"
   ]
  },
  {
   "cell_type": "code",
   "execution_count": 9,
   "id": "db4470da",
   "metadata": {},
   "outputs": [],
   "source": [
    "def get_user_rate(soup_page):\n",
    "    user_rate = soup_page.find('p', {'class':\"xJEoWe\"}).text\n",
    "    if 'K ratings' in user_rate:\n",
    "        result = user_rate.replace('K ratings','')\n",
    "        result = float(result)*1000\n",
    "        return int(result)"
   ]
  },
  {
   "cell_type": "code",
   "execution_count": 10,
   "id": "fc683b20",
   "metadata": {},
   "outputs": [
    {
     "data": {
      "text/plain": [
       "6000"
      ]
     },
     "execution_count": 10,
     "metadata": {},
     "output_type": "execute_result"
    }
   ],
   "source": [
    "get_user_rate(soup)"
   ]
  },
  {
   "cell_type": "markdown",
   "id": "d1168cf5",
   "metadata": {},
   "source": [
    "#### 3.4 Количество пользователей приложения"
   ]
  },
  {
   "cell_type": "markdown",
   "id": "57372cf6",
   "metadata": {},
   "source": [
    "* поиск количества пользователей и перевод в формат числа"
   ]
  },
  {
   "cell_type": "code",
   "execution_count": 11,
   "id": "45601b9a",
   "metadata": {},
   "outputs": [],
   "source": [
    "def get_user_numbers(soup_page):\n",
    "    users = soup_page.find('div', {'class':'F9iKBc'}).text\n",
    "    numbers = re.findall(r'\\d+', users)\n",
    "    users_number = ''.join(str(number) for number in numbers)\n",
    "    return int(users_number)"
   ]
  },
  {
   "cell_type": "code",
   "execution_count": 12,
   "id": "99e6bc48",
   "metadata": {},
   "outputs": [
    {
     "data": {
      "text/plain": [
       "500000"
      ]
     },
     "execution_count": 12,
     "metadata": {},
     "output_type": "execute_result"
    }
   ],
   "source": [
    "get_user_numbers(soup)"
   ]
  },
  {
   "cell_type": "markdown",
   "id": "75471e34",
   "metadata": {},
   "source": [
    "#### 4. Функция для нескольких сайтов"
   ]
  },
  {
   "cell_type": "code",
   "execution_count": 13,
   "id": "54792709",
   "metadata": {},
   "outputs": [
    {
     "data": {
      "text/plain": [
       "{'title': 'Liner: ChatGPT AI Copilot for Web&YouTube&PDF',\n",
       " 'rating': 4.4,\n",
       " 'user_rate': 6000,\n",
       " 'users_number': 500000}"
      ]
     },
     "execution_count": 13,
     "metadata": {},
     "output_type": "execute_result"
    }
   ],
   "source": [
    "def parsedate(url):\n",
    "           \n",
    "    page = requests.get(url)\n",
    "    soup = bs(page.text)  \n",
    "    \n",
    "    return {'title':get_title(soup), \n",
    "            'rating':get_rating(soup), \n",
    "            'user_rate':get_user_rate(soup), \n",
    "            'users_number':get_user_numbers(soup)}\n",
    "\n",
    "parsedate(url)"
   ]
  },
  {
   "cell_type": "code",
   "execution_count": 14,
   "id": "3da54187",
   "metadata": {},
   "outputs": [
    {
     "data": {
      "text/plain": [
       "{'title': 'ChatGPT Writer - Write mail, messages with AI',\n",
       " 'rating': 4.6,\n",
       " 'user_rate': 1300,\n",
       " 'users_number': 700000}"
      ]
     },
     "execution_count": 14,
     "metadata": {},
     "output_type": "execute_result"
    }
   ],
   "source": [
    "url_2 = ('https://chromewebstore.google.com/detail/chatgpt-writer-write-mail/pdnenlnelpdomajfejgapbdpmjkfpjkp')\n",
    "parsedate(url_2)"
   ]
  },
  {
   "cell_type": "code",
   "execution_count": 15,
   "id": "3e198a2a",
   "metadata": {},
   "outputs": [
    {
     "data": {
      "text/plain": [
       "{'title': 'Monica - Your AI Copilot powered by ChatGPT4',\n",
       " 'rating': 4.9,\n",
       " 'user_rate': 16300,\n",
       " 'users_number': 2000000}"
      ]
     },
     "execution_count": 15,
     "metadata": {},
     "output_type": "execute_result"
    }
   ],
   "source": [
    "url_3 = ('https://chromewebstore.google.com/detail/monica-ai-copilot-%D0%BD%D0%B0-%D0%B1%D0%B0%D0%B7%D0%B5/ofpnmcalabcbjgholdjcjblkibolbppb')\n",
    "parsedate(url_3)"
   ]
  },
  {
   "cell_type": "markdown",
   "id": "4ba15fc3",
   "metadata": {},
   "source": [
    "#### 5. Выбор приложений и текущее время анализа данных, вывод сводной таблицы"
   ]
  },
  {
   "cell_type": "code",
   "execution_count": 16,
   "id": "8a63affd",
   "metadata": {
    "scrolled": true
   },
   "outputs": [
    {
     "data": {
      "text/html": [
       "<div>\n",
       "<style scoped>\n",
       "    .dataframe tbody tr th:only-of-type {\n",
       "        vertical-align: middle;\n",
       "    }\n",
       "\n",
       "    .dataframe tbody tr th {\n",
       "        vertical-align: top;\n",
       "    }\n",
       "\n",
       "    .dataframe thead th {\n",
       "        text-align: right;\n",
       "    }\n",
       "</style>\n",
       "<table border=\"1\" class=\"dataframe\">\n",
       "  <thead>\n",
       "    <tr style=\"text-align: right;\">\n",
       "      <th></th>\n",
       "      <th>title</th>\n",
       "      <th>rating</th>\n",
       "      <th>user_rate</th>\n",
       "      <th>users_number</th>\n",
       "      <th>update_at</th>\n",
       "    </tr>\n",
       "  </thead>\n",
       "  <tbody>\n",
       "    <tr>\n",
       "      <th>0</th>\n",
       "      <td>Liner: ChatGPT AI Copilot for Web&amp;YouTube&amp;PDF</td>\n",
       "      <td>4.4</td>\n",
       "      <td>6000</td>\n",
       "      <td>500000</td>\n",
       "      <td>2024-06-24 12:32:54.217588</td>\n",
       "    </tr>\n",
       "    <tr>\n",
       "      <th>1</th>\n",
       "      <td>ChatGPT Writer - Write mail, messages with AI</td>\n",
       "      <td>4.6</td>\n",
       "      <td>1300</td>\n",
       "      <td>700000</td>\n",
       "      <td>2024-06-24 12:32:54.217588</td>\n",
       "    </tr>\n",
       "    <tr>\n",
       "      <th>2</th>\n",
       "      <td>Monica - Your AI Copilot powered by ChatGPT4</td>\n",
       "      <td>4.9</td>\n",
       "      <td>16300</td>\n",
       "      <td>2000000</td>\n",
       "      <td>2024-06-24 12:32:54.217588</td>\n",
       "    </tr>\n",
       "    <tr>\n",
       "      <th>3</th>\n",
       "      <td>Sider: ChatGPT Sidebar + GPT-4o, Claude 3.5, G...</td>\n",
       "      <td>4.9</td>\n",
       "      <td>29900</td>\n",
       "      <td>2000000</td>\n",
       "      <td>2024-06-24 12:32:54.217588</td>\n",
       "    </tr>\n",
       "    <tr>\n",
       "      <th>4</th>\n",
       "      <td>Merlin - Ask AI to Research, Write &amp; Review</td>\n",
       "      <td>4.8</td>\n",
       "      <td>8600</td>\n",
       "      <td>1000000</td>\n",
       "      <td>2024-06-24 12:32:54.217588</td>\n",
       "    </tr>\n",
       "  </tbody>\n",
       "</table>\n",
       "</div>"
      ],
      "text/plain": [
       "                                               title  rating  user_rate  \\\n",
       "0      Liner: ChatGPT AI Copilot for Web&YouTube&PDF     4.4       6000   \n",
       "1      ChatGPT Writer - Write mail, messages with AI     4.6       1300   \n",
       "2       Monica - Your AI Copilot powered by ChatGPT4     4.9      16300   \n",
       "3  Sider: ChatGPT Sidebar + GPT-4o, Claude 3.5, G...     4.9      29900   \n",
       "4        Merlin - Ask AI to Research, Write & Review     4.8       8600   \n",
       "\n",
       "   users_number                  update_at  \n",
       "0        500000 2024-06-24 12:32:54.217588  \n",
       "1        700000 2024-06-24 12:32:54.217588  \n",
       "2       2000000 2024-06-24 12:32:54.217588  \n",
       "3       2000000 2024-06-24 12:32:54.217588  \n",
       "4       1000000 2024-06-24 12:32:54.217588  "
      ]
     },
     "execution_count": 16,
     "metadata": {},
     "output_type": "execute_result"
    }
   ],
   "source": [
    "now = datetime.now()\n",
    "\n",
    "competitors = ['https://chromewebstore.google.com/detail/liner-chatgpt-ai-copilot/bmhcbmnbenmcecpmpepghooflbehcack', \n",
    "               'https://chromewebstore.google.com/detail/chatgpt-writer-write-mail/pdnenlnelpdomajfejgapbdpmjkfpjkp', \n",
    "               'https://chromewebstore.google.com/detail/monica-ai-copilot-%D0%BD%D0%B0-%D0%B1%D0%B0%D0%B7%D0%B5/ofpnmcalabcbjgholdjcjblkibolbppb',\n",
    "               'https://chromewebstore.google.com/detail/sider-chatgpt-%D0%B1%D0%BE%D0%BA%D0%BE%D0%B2%D0%B0%D1%8F-%D0%BF%D0%B0%D0%BD/difoiogjjojoaoomphldepapgpbgkhkb',\n",
    "               'https://chromewebstore.google.com/detail/merlin-ask-ai-to-research/camppjleccjaphfdbohjdohecfnoikec']\n",
    "\n",
    "lst = []\n",
    "\n",
    "for competitor in competitors:\n",
    "    res = parsedate(competitor)\n",
    "    res['update_at'] = now\n",
    "    lst.append(res)\n",
    "    \n",
    "df = pd.DataFrame(lst)\n",
    "df"
   ]
  },
  {
   "cell_type": "code",
   "execution_count": null,
   "id": "c3e675f9",
   "metadata": {},
   "outputs": [],
   "source": []
  }
 ],
 "metadata": {
  "kernelspec": {
   "display_name": "Python 3 (ipykernel)",
   "language": "python",
   "name": "python3"
  },
  "language_info": {
   "codemirror_mode": {
    "name": "ipython",
    "version": 3
   },
   "file_extension": ".py",
   "mimetype": "text/x-python",
   "name": "python",
   "nbconvert_exporter": "python",
   "pygments_lexer": "ipython3",
   "version": "3.11.5"
  }
 },
 "nbformat": 4,
 "nbformat_minor": 5
}
